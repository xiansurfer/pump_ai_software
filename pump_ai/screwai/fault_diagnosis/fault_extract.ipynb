{
 "cells": [
  {
   "cell_type": "code",
   "execution_count": 1,
   "metadata": {
    "collapsed": true
   },
   "outputs": [],
   "source": [
    "\n",
    "import numpy as np\n",
    "import pandas as pd\n",
    "import warnings\n",
    "\n",
    "from screwai.core.draw_effici import *\n",
    "\n",
    "warnings.filterwarnings(\"ignore\")\n",
    "import matplotlib.pyplot as plt\n",
    "from mpl_toolkits.mplot3d import Axes3D\n",
    "\n",
    "plt.rcParams['font.sans-serif'] = ['SimHei']\n",
    "plt.rcParams['axes.unicode_minus'] = False\n",
    "\n",
    "from screwai.core.config import *\n",
    "from screwai.core.database import *"
   ]
  },
  {
   "cell_type": "code",
   "execution_count": 1,
   "outputs": [],
   "source": [],
   "metadata": {
    "collapsed": false,
    "pycharm": {
     "name": "#%%\n"
    }
   }
  },
  {
   "cell_type": "code",
   "execution_count": 4,
   "outputs": [],
   "source": [
    "# 数据基准文件夹\n",
    "\n",
    "failed_info = pd.read_excel(config['othe_save_dir'] + '/部分故障类型标记.xlsx')\n"
   ],
   "metadata": {
    "collapsed": false,
    "pycharm": {
     "name": "#%%\n"
    }
   }
  },
  {
   "cell_type": "code",
   "execution_count": 6,
   "outputs": [
    {
     "data": {
      "text/plain": "  Wellbore Completion  Condition_Code Well_Type            Open_Date  \\\n0     39-3          K               0       ннс  2016-10-28 00:00:00   \n1   1021-3          J               0       ннс  2016-10-31 00:00:00   \n2  6210-3S          J               0       бгс           2017-01-12   \n3      688          J               0        вс  2014-11-16 00:00:00   \n4  1052-3S          J               0       бгс  2016-10-24 00:00:00   \n\n             Fail_Date                               Workover_Purpose  \\\n0  2017-01-21 00:00:00          Нет подачи.Очистка забоя.Ревизия ГНО.   \n1  2017-04-07 00:00:00          Нет подачи.Очистка забоя.Ревизия ГНО.   \n2           2017-04-27                     Заклин плунжера. Промывка.   \n3  2017-04-28 00:00:00  Нет подачи. Очистка забоя. Смена насоса и ВП.   \n4  2017-05-21 00:00:00          Нет подачи.Очистка забоя.Ревизия ГНО.   \n\n                                         Fail_Reason  Running_Time  \\\n0                           13-я штанга слом по телу          85.0   \n1                            28-яштанга слом по телу         158.0   \n2         Отбракован НКТ 3 1/2-1шт(трещина по телу).         105.0   \n3  (отбраковка штанги 1\"-20шт коррозия по телу).о...         894.0   \n4  Штанги 1\"-20шт(коррозия по телу).Отбракован НК...         209.0   \n\n                   Pump_Model Well_Condition  Length  Pump_Depth  \n0                  TP 28-1000          новый    5.50      330.56  \n1            Netzsh 40-D-90SH          подн.    4.05      419.72  \n2        API 30-250 RWAM 18-2       поднятый     NaN      345.12  \n3  Anek (Centrilift) 43-D-124          новый    4.60      412.26  \n4                  TP 75-1000          новый    5.67      332.87  ",
      "text/html": "<div>\n<style scoped>\n    .dataframe tbody tr th:only-of-type {\n        vertical-align: middle;\n    }\n\n    .dataframe tbody tr th {\n        vertical-align: top;\n    }\n\n    .dataframe thead th {\n        text-align: right;\n    }\n</style>\n<table border=\"1\" class=\"dataframe\">\n  <thead>\n    <tr style=\"text-align: right;\">\n      <th></th>\n      <th>Wellbore</th>\n      <th>Completion</th>\n      <th>Condition_Code</th>\n      <th>Well_Type</th>\n      <th>Open_Date</th>\n      <th>Fail_Date</th>\n      <th>Workover_Purpose</th>\n      <th>Fail_Reason</th>\n      <th>Running_Time</th>\n      <th>Pump_Model</th>\n      <th>Well_Condition</th>\n      <th>Length</th>\n      <th>Pump_Depth</th>\n    </tr>\n  </thead>\n  <tbody>\n    <tr>\n      <th>0</th>\n      <td>39-3</td>\n      <td>K</td>\n      <td>0</td>\n      <td>ннс</td>\n      <td>2016-10-28 00:00:00</td>\n      <td>2017-01-21 00:00:00</td>\n      <td>Нет подачи.Очистка забоя.Ревизия ГНО.</td>\n      <td>13-я штанга слом по телу</td>\n      <td>85.0</td>\n      <td>TP 28-1000</td>\n      <td>новый</td>\n      <td>5.50</td>\n      <td>330.56</td>\n    </tr>\n    <tr>\n      <th>1</th>\n      <td>1021-3</td>\n      <td>J</td>\n      <td>0</td>\n      <td>ннс</td>\n      <td>2016-10-31 00:00:00</td>\n      <td>2017-04-07 00:00:00</td>\n      <td>Нет подачи.Очистка забоя.Ревизия ГНО.</td>\n      <td>28-яштанга слом по телу</td>\n      <td>158.0</td>\n      <td>Netzsh 40-D-90SH</td>\n      <td>подн.</td>\n      <td>4.05</td>\n      <td>419.72</td>\n    </tr>\n    <tr>\n      <th>2</th>\n      <td>6210-3S</td>\n      <td>J</td>\n      <td>0</td>\n      <td>бгс</td>\n      <td>2017-01-12</td>\n      <td>2017-04-27</td>\n      <td>Заклин плунжера. Промывка.</td>\n      <td>Отбракован НКТ 3 1/2-1шт(трещина по телу).</td>\n      <td>105.0</td>\n      <td>API 30-250 RWAM 18-2</td>\n      <td>поднятый</td>\n      <td>NaN</td>\n      <td>345.12</td>\n    </tr>\n    <tr>\n      <th>3</th>\n      <td>688</td>\n      <td>J</td>\n      <td>0</td>\n      <td>вс</td>\n      <td>2014-11-16 00:00:00</td>\n      <td>2017-04-28 00:00:00</td>\n      <td>Нет подачи. Очистка забоя. Смена насоса и ВП.</td>\n      <td>(отбраковка штанги 1\"-20шт коррозия по телу).о...</td>\n      <td>894.0</td>\n      <td>Anek (Centrilift) 43-D-124</td>\n      <td>новый</td>\n      <td>4.60</td>\n      <td>412.26</td>\n    </tr>\n    <tr>\n      <th>4</th>\n      <td>1052-3S</td>\n      <td>J</td>\n      <td>0</td>\n      <td>бгс</td>\n      <td>2016-10-24 00:00:00</td>\n      <td>2017-05-21 00:00:00</td>\n      <td>Нет подачи.Очистка забоя.Ревизия ГНО.</td>\n      <td>Штанги 1\"-20шт(коррозия по телу).Отбракован НК...</td>\n      <td>209.0</td>\n      <td>TP 75-1000</td>\n      <td>новый</td>\n      <td>5.67</td>\n      <td>332.87</td>\n    </tr>\n  </tbody>\n</table>\n</div>"
     },
     "execution_count": 6,
     "metadata": {},
     "output_type": "execute_result"
    }
   ],
   "source": [
    "failed_info.head()\n"
   ],
   "metadata": {
    "collapsed": false,
    "pycharm": {
     "name": "#%%\n"
    }
   }
  },
  {
   "cell_type": "code",
   "execution_count": 7,
   "outputs": [
    {
     "data": {
      "text/plain": "(174, 13)"
     },
     "execution_count": 7,
     "metadata": {},
     "output_type": "execute_result"
    }
   ],
   "source": [
    "failed_info.shape\n"
   ],
   "metadata": {
    "collapsed": false,
    "pycharm": {
     "name": "#%%\n"
    }
   }
  },
  {
   "cell_type": "code",
   "execution_count": null,
   "outputs": [],
   "source": [
    "# 故障映射表实例化\n",
    "findReason = FindReason(f'{data_path}/fault_mapping_dict.yaml')\n",
    "# 获取故障映射表的矩阵\n",
    "fault_mapping_df = findReason.get_fault_mapping_df()\n",
    "# 获取指定语言的词袋\n",
    "fault_mapping_bow = findReason.bag_of_words_in_language('RU')\n",
    "print(f'词袋长度: {len(fault_mapping_bow)},\\n{fault_mapping_bow}')\n",
    "\n"
   ],
   "metadata": {
    "collapsed": false,
    "pycharm": {
     "name": "#%%\n"
    }
   }
  },
  {
   "cell_type": "code",
   "execution_count": 1,
   "outputs": [],
   "source": [],
   "metadata": {
    "collapsed": false,
    "pycharm": {
     "name": "#%%\n"
    }
   }
  },
  {
   "cell_type": "code",
   "execution_count": 1,
   "outputs": [],
   "source": [
    "hp = df['Глубина спуска насоса, м']\n",
    "hs = df['Динамический уровень над насосом, м']\n",
    "rou = 880\n",
    "g = 9.8\n",
    "tp = df['Давление Трубное / TP, atm']\n",
    "cp = df['Давление затрубное / CP, atm']\n",
    "up = (hp*rou*g)/(10**6)+tp*0.101\n",
    "down = (hs*rou*g)/(10**6) +cp*0.101\n",
    "lift =up - down"
   ],
   "metadata": {
    "collapsed": false,
    "pycharm": {
     "name": "#%%\n"
    }
   }
  },
  {
   "cell_type": "code",
   "execution_count": null,
   "outputs": [],
   "source": [],
   "metadata": {
    "collapsed": false,
    "pycharm": {
     "name": "#%%\n"
    }
   }
  }
 ],
 "metadata": {
  "kernelspec": {
   "display_name": "Python 3",
   "language": "python",
   "name": "python3"
  },
  "language_info": {
   "codemirror_mode": {
    "name": "ipython",
    "version": 2
   },
   "file_extension": ".py",
   "mimetype": "text/x-python",
   "name": "python",
   "nbconvert_exporter": "python",
   "pygments_lexer": "ipython2",
   "version": "2.7.6"
  }
 },
 "nbformat": 4,
 "nbformat_minor": 0
}