{
 "cells": [
  {
   "cell_type": "code",
   "execution_count": 2,
   "metadata": {},
   "outputs": [],
   "source": [
    "import pymysql\n",
    "\n",
    "import os\n",
    "import pandas as pd\n",
    "import scipy.optimize as opt\n",
    "\n",
    "from screwai.core.draw_effici import *\n",
    "\n",
    "import matplotlib.pyplot as plt\n",
    "from mpl_toolkits.mplot3d import Axes3D\n",
    "plt.rcParams['font.sans-serif']=['SimHei']\n",
    "plt.rcParams['axes.unicode_minus'] = False"
   ]
  },
  {
   "cell_type": "code",
   "execution_count": 7,
   "metadata": {
    "pycharm": {
     "name": "#%%\n"
    }
   },
   "outputs": [],
   "source": [
    "# 打开数据库连接\n",
    "def db_connect():\n",
    "    db = pymysql.connect(host='120.48.13.79',\n",
    "                         user='sinopec_usage',\n",
    "                         password='myiJ2WkCVA4OPggC',\n",
    "                         database='sinopecdatabase')\n",
    "    return db\n",
    "\n",
    "db = db_connect()\n",
    "\n",
    "\n",
    "\n",
    "# 使用 cursor() 方法创建一个游标对象 cursor\n",
    "cur = db.cursor()\n",
    "\n",
    "# 获取全部列名\n",
    "sql_code = \"select * from Production_Daily_Data_pcponly LIMIT 1\"\n",
    "cur.execute(sql_code)\n",
    "\n",
    "# 列名列表\n",
    "column_list = [i[0] for i in cur.description]\n",
    "for i in column_list:\n",
    "    # print(i)\n",
    "    pass"
   ]
  },
  {
   "cell_type": "code",
   "execution_count": null,
   "metadata": {
    "pycharm": {
     "name": "#%%\n"
    }
   },
   "outputs": [],
   "source": []
  },
  {
   "cell_type": "code",
   "execution_count": null,
   "metadata": {},
   "outputs": [],
   "source": []
  },
  {
   "cell_type": "code",
   "execution_count": null,
   "metadata": {},
   "outputs": [],
   "source": []
  },
  {
   "cell_type": "code",
   "execution_count": null,
   "metadata": {},
   "outputs": [],
   "source": []
  },
  {
   "cell_type": "code",
   "execution_count": null,
   "metadata": {},
   "outputs": [],
   "source": []
  }
 ],
 "metadata": {
  "kernelspec": {
   "display_name": "Python 3 (ipykernel)",
   "language": "python",
   "name": "python3"
  },
  "language_info": {
   "codemirror_mode": {
    "name": "ipython",
    "version": 3
   },
   "file_extension": ".py",
   "mimetype": "text/x-python",
   "name": "python",
   "nbconvert_exporter": "python",
   "pygments_lexer": "ipython3",
   "version": "3.9.9"
  }
 },
 "nbformat": 4,
 "nbformat_minor": 1
}