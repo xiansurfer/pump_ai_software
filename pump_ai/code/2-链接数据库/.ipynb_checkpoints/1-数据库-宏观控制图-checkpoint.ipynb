{
 "cells": [
  {
   "cell_type": "code",
   "execution_count": 1,
   "metadata": {},
   "outputs": [],
   "source": [
    "import pymysql\n",
    "\n",
    "\n",
    "import pandas as pd\n",
    "import scipy.optimize as opt\n",
    "\n",
    "from draw_effici import *\n",
    "\n",
    "import matplotlib.pyplot as plt\n",
    "plt.rcParams['font.sans-serif']=['SimHei']\n",
    "plt.rcParams['axes.unicode_minus'] = False"
   ]
  },
  {
   "cell_type": "code",
   "execution_count": null,
   "metadata": {},
   "outputs": [],
   "source": []
  },
  {
   "cell_type": "code",
   "execution_count": null,
   "metadata": {},
   "outputs": [],
   "source": []
  },
  {
   "cell_type": "code",
   "execution_count": null,
   "metadata": {},
   "outputs": [],
   "source": []
  },
  {
   "cell_type": "code",
   "execution_count": null,
   "metadata": {},
   "outputs": [],
   "source": [
    "# 打开数据库连接\n",
    "db = pymysql.connect(host='47.95.112.122',\n",
    "                     user='root',\n",
    "                     password='root',\n",
    "                     database='clouddatabase')\n",
    "\n",
    "# 使用 cursor() 方法创建一个游标对象 cursor\n",
    "cur = db.cursor()\n",
    "\n"
   ]
  },
  {
   "cell_type": "code",
   "execution_count": null,
   "metadata": {
    "scrolled": true
   },
   "outputs": [],
   "source": [
    "# 获取全部列名\n",
    "sql_code = \"select * from Production_Daily_Data_pcponly LIMIT 1\"\n",
    "cur.execute(sql_code)\n",
    "\n",
    "# 列名列表\n",
    "column_list = [i[0] for i in cur.description]\n",
    "for i in column_list:\n",
    "    # print(i)\n",
    "    pass"
   ]
  },
  {
   "cell_type": "code",
   "execution_count": null,
   "metadata": {},
   "outputs": [],
   "source": []
  },
  {
   "cell_type": "code",
   "execution_count": null,
   "metadata": {},
   "outputs": [],
   "source": [
    "sql_code_date = \"select * from Production_Daily_Data_pcponly where `Date` = '2019-12-31'\"\n",
    "sql_code_well = \"select * from Production_Daily_Data_pcponly where `Wellbore` = 'NB2'\"\n",
    "cur.execute(sql_code_well)\n",
    "\n",
    "df = pd.DataFrame(cur.fetchall())\n",
    "\n",
    "# 修改列名\n",
    "df.columns = column_list\n",
    "# 将日期列转化为时间格式\n",
    "df['Date'] = pd.to_datetime(df['Date'], format='%Y-%m-%d')\n",
    "\n"
   ]
  },
  {
   "cell_type": "code",
   "execution_count": 26,
   "metadata": {
    "scrolled": true
   },
   "outputs": [],
   "source": [
    "# 无因次举升压头=[泵效 + (油管压力 - 套管压力)*10] / max(FL from Surface)\n",
    "x_data = (df['Efficiency %'] + (df['TP_psig'] - df['CP_psig']) * 10) / df['Prod_FL_From_Surface_m'].max()\n",
    "y_efficiency = df['Efficiency %']\n",
    "y_torque = df['Amps_Torq']\n",
    "\n",
    "time_data = df['Date']\n",
    "time_data = (time_data - time_data.iloc[0]).dt.days\n",
    "\n",
    "\n",
    "save_dir = 'output'\n",
    "\n",
    "\n",
    "focus_well = 'NB2'\n",
    "focus_day = '2020-12-27'\n",
    "focus_day = str(focus_day).split('T')[0]"
   ]
  },
  {
   "cell_type": "code",
   "execution_count": null,
   "metadata": {},
   "outputs": [],
   "source": []
  },
  {
   "cell_type": "code",
   "execution_count": null,
   "metadata": {},
   "outputs": [],
   "source": []
  },
  {
   "cell_type": "code",
   "execution_count": 27,
   "metadata": {},
   "outputs": [],
   "source": [
    "# 画单井泵效\n",
    "draw_single_well_efficiency(x_data, y_efficiency, time_data, well_name=focus_well, save_img=save_dir+'/单井泵效控制图')\n",
    "# 画单井扭矩\n",
    "draw_single_well_torque(x_data, y_torque, time_data, well_name=focus_well, save_img=save_dir+'/单井扭矩控制图')\n",
    "\n",
    "# 画井群控制泵效\n",
    "draw_group_well_efficiency(x_data, y_efficiency, one_day=focus_day, save_img=save_dir+'/井群泵效控制图')\n",
    "# 画井群控制扭矩\n",
    "draw_group_well_torque(x_data, y_torque, one_day=focus_day, save_img=save_dir+'/井群扭矩控制图')\n",
    "\n",
    "\n"
   ]
  },
  {
   "cell_type": "code",
   "execution_count": null,
   "metadata": {},
   "outputs": [],
   "source": []
  },
  {
   "cell_type": "code",
   "execution_count": null,
   "metadata": {},
   "outputs": [],
   "source": []
  },
  {
   "cell_type": "code",
   "execution_count": null,
   "metadata": {},
   "outputs": [],
   "source": []
  },
  {
   "cell_type": "code",
   "execution_count": null,
   "metadata": {},
   "outputs": [],
   "source": []
  },
  {
   "cell_type": "code",
   "execution_count": null,
   "metadata": {},
   "outputs": [],
   "source": []
  },
  {
   "cell_type": "code",
   "execution_count": null,
   "metadata": {},
   "outputs": [],
   "source": []
  },
  {
   "cell_type": "code",
   "execution_count": null,
   "metadata": {},
   "outputs": [],
   "source": []
  },
  {
   "cell_type": "code",
   "execution_count": null,
   "metadata": {},
   "outputs": [],
   "source": []
  },
  {
   "cell_type": "code",
   "execution_count": null,
   "metadata": {},
   "outputs": [],
   "source": []
  },
  {
   "cell_type": "code",
   "execution_count": null,
   "metadata": {},
   "outputs": [],
   "source": []
  },
  {
   "cell_type": "code",
   "execution_count": null,
   "metadata": {},
   "outputs": [],
   "source": []
  },
  {
   "cell_type": "code",
   "execution_count": null,
   "metadata": {},
   "outputs": [],
   "source": []
  }
 ],
 "metadata": {
  "kernelspec": {
   "display_name": "Python 3",
   "language": "python",
   "name": "python3"
  },
  "language_info": {
   "codemirror_mode": {
    "name": "ipython",
    "version": 3
   },
   "file_extension": ".py",
   "mimetype": "text/x-python",
   "name": "python",
   "nbconvert_exporter": "python",
   "pygments_lexer": "ipython3",
   "version": "3.8.3"
  }
 },
 "nbformat": 4,
 "nbformat_minor": 4
}
